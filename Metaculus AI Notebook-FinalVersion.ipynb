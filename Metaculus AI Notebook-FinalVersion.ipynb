{
 "cells": [
  {
   "cell_type": "code",
   "execution_count": 270,
   "metadata": {},
   "outputs": [],
   "source": [
    "import ergo, pandas as pd, numpy as np\n",
    "import matplotlib.pyplot as plt\n",
    "import urllib.request as urllib\n",
    "from datetime import datetime, date\n",
    "import pickle\n",
    "import time\n",
    "import warnings\n",
    "from cmath import exp\n",
    "from math import pi\n",
    "\n",
    "warnings.filterwarnings('ignore')\n",
    "def closest(candidates, target):\n",
    "    scores=[]\n",
    "    for candidate in candidates:\n",
    "        scores.append(abs(float(target)-float(candidate)))\n",
    "    min_score=min(scores)\n",
    "    return scores.index(min_score)\n",
    "def openfor(qdata):\n",
    "    return (pd.to_datetime(qdata[\"close_time\"])-pd.to_datetime(qdata[\"publish_time\"])).days\n",
    "def resolvedafter(qdata):\n",
    "    return (pd.to_datetime(qdata[\"resolve_time\"])-pd.to_datetime(qdata[\"publish_time\"])).days\n",
    "def closedfor(qdata):\n",
    "    return (pd.to_datetime(qdata[\"resolve_time\"])-pd.to_datetime(qdata[\"close_time\"])).days\n",
    "def sincepub(qdata):\n",
    "    return (pd.Timestamp.today(tz=\"UTC\")-pd.to_datetime(qdata[\"publish_time\"])).days\n",
    "def getq(n):\n",
    "    with open('questions/q'+str(n)+'.p', 'rb') as fp:\n",
    "        return pickle.load(fp)\n",
    "def overconfidence(sample):\n",
    "    num=0\n",
    "    denom=0\n",
    "    for pred in sample:\n",
    "        num+=(pred-1)*(pred-.5)\n",
    "        denom+=(pred-.5)*(pred-.5)\n",
    "    return num/denom\n",
    "def plot_predictions(preds, q_title):\n",
    "    plt.plot(preds['t'], preds['median'], label='Community')\n",
    "    plt.title(q_title)\n",
    "    plt.legend()\n",
    "    return plt\n",
    "def gettimeinrange(percentile, minimum, maximum):\n",
    "    minimum=pd.to_datetime(minimum)\n",
    "    maximum=pd.to_datetime(maximum)\n",
    "    return minimum+percentile*(maximum-minimum)\n",
    "\n",
    "def resolvetime(rtime):\n",
    "    try: \n",
    "        return pd.to_datetime(datetime.strptime(rtime, '%Y-%m-%dT%H:%M:%SZ'))\n",
    "    except :\n",
    "        return pd.to_datetime(date(2100,1, 1))\n",
    "def pofr(p,r):\n",
    "    if r==0.:\n",
    "        return 1-p\n",
    "    elif r==1.:\n",
    "        return p\n",
    "    else:return None\n",
    "def proxyres(final,res):\n",
    "    if res==1. or res==0.:\n",
    "        return res\n",
    "    else:\n",
    "        return final\n",
    "    \n",
    "def EBrier(pred):\n",
    "    return pred*(1-pred)*(1-pred)+(1-pred)*pred*pred\n",
    "\n",
    "def poissonbinomial(k, probs):\n",
    "    C=exp((2*((-1)**.5)*pi)/(len(probs)+1))\n",
    "    total=0\n",
    "    for l in range(0,len(probs)+1):\n",
    "        prod=1\n",
    "        for m in range(1, len(probs)):\n",
    "            prod=prod*(1+(C**l-1)*probs[m])\n",
    "        total+=C**((-l)*k)*prod\n",
    "    total=total/(len(probs)+1)\n",
    "    return total\n",
    "qs={}\n",
    "qiddict={}\n",
    "longaiqs=[2890,2948,2949,2888,2856,2827,2950,2834,2976,2862,2869,2867,2890,2825,2922,2901,2889,2859,2838,2872,2917,2921,2879,2885,2870,2886,2906,2851,2836,2835,2887,2846,2899,2848,2854,2865,2894,2844,2858,2840,2853,2833,2864,2873,2878,2914,2830,2891,3056,2982,2905,2898,2977,2919,2896,2979,2829,2918,2845,2904,2863,2910,2860,2880,2866,2881,2915,2912,2884,2871,3055,2908,3250,3083,2843,2824,2900,2902,2874,2828,3092,2839,2907,2909,2837,2895,2920,2882,2981,2826,2875,2855,2913,2847,2892,2877,2852,2893,3028,2868,2916,2861,2876,2911,3032]\n",
    "allaiqs=[6939,6563,2570,6564,6565,2976,6569,736,6571,6570,6566,6520,6586,6157,3040,7018,5121,3794,5120,4815,5897,5118,7506,6685,6298,5902,6568,6559,6302,6192,6572,6529,5896,3723,13,503,4876,6299,6183,6246,6227,5946,6526,6525,6576,7483,6527,6300,5947,5924,1335,6245,548,6528,2982,4732,6938,6517,487,6439,6541,4903,3056,5353,5558,4877,2977,1495,2788,4880,5218,7111,5904,5948,2979,4518,6567,6155,5951,5903,4892,5276,6540,7398,372,6229,6182,5871,5900,6680,345,403,1069,6087,2606,45,3656,5587,5892,3590,903,4264,1651,2805,3479,4215,4852,3698,6679,974,6537,3771,3683,1040,2646,7113,5460,486,9,6509,4873,2644,2981,404,4872,2567,106,3648,1698,5492,512,1019,4932,5304,170,5306,5485,413,204,5303,3272,3762,5173,3729,4232,381,4869,4923,3028,776,401,344,5512,438,406,6728,5694,2535,4235,207,470,4409,4043,206,4055,112,351,46,3770,5454,384,405,4292,278,302,6663,495,3020,73,1394]\n"
   ]
  },
  {
   "cell_type": "markdown",
   "metadata": {},
   "source": [
    "## Get questions from Metaculus. Note that Metaculus throttles at 500 queries/hour"
   ]
  },
  {
   "cell_type": "code",
   "execution_count": 271,
   "metadata": {},
   "outputs": [
    {
     "name": "stdout",
     "output_type": "stream",
     "text": [
      "Logging in to Metaculus...\n",
      "...Logged on\n"
     ]
    }
   ],
   "source": [
    "\n",
    "print('Logging in to Metaculus...')\n",
    "metaculus = ergo.Metaculus(api_domain=\"ai\")\n",
    "metaculus.login_via_username_and_password(username='', password='')\n",
    "print('...Logged on')\n",
    "for i in longaiqs:\n",
    "    if i in qs.keys():\n",
    "        pass\n",
    "    else:\n",
    "        try:\n",
    "            qs[i] = metaculus.get_question(i)\n",
    "            qiddict[i]= qs[i].data[\"possibilities\"][\"type\"]\n",
    "            qs[i]=qs[i].data\n",
    "\n",
    "        except:\n",
    "            qiddict[i]= \"dead\""
   ]
  },
  {
   "cell_type": "code",
   "execution_count": 272,
   "metadata": {},
   "outputs": [
    {
     "name": "stdout",
     "output_type": "stream",
     "text": [
      "Logging in to Metaculus...\n",
      "...Logged on\n"
     ]
    }
   ],
   "source": [
    "\n",
    "print('Logging in to Metaculus...')\n",
    "metaculus = ergo.Metaculus()\n",
    "metaculus.login_via_username_and_password(username='', password='')\n",
    "print('...Logged on')\n",
    "for i in allaiqs:\n",
    "    if i in qs.keys():\n",
    "        pass\n",
    "    else:\n",
    "        try:\n",
    "            qs[i] = metaculus.get_question(i)\n",
    "            qiddict[i]= qs[i].data[\"possibilities\"][\"type\"]\n",
    "            qs[i]=qs[i].data\n",
    "\n",
    "        except:\n",
    "            qiddict[i]= \"dead\""
   ]
  },
  {
   "cell_type": "markdown",
   "metadata": {},
   "source": [
    "## Get list of date questions"
   ]
  },
  {
   "cell_type": "code",
   "execution_count": 273,
   "metadata": {},
   "outputs": [],
   "source": [
    "dateqs=[]\n",
    "for q in qs:\n",
    "    try:\n",
    "        if qs[q][\"possibilities\"][\"format\"]==\"date\":\n",
    "            dateqs.append(q)\n",
    "    except:\n",
    "        pass"
   ]
  },
  {
   "cell_type": "code",
   "execution_count": 274,
   "metadata": {},
   "outputs": [],
   "source": [
    "qtypes=pd.Series(qiddict)\n"
   ]
  },
  {
   "cell_type": "code",
   "execution_count": 275,
   "metadata": {},
   "outputs": [
    {
     "data": {
      "text/plain": [
       "continuous    144\n",
       "binary        115\n",
       "dead           18\n",
       "dtype: int64"
      ]
     },
     "execution_count": 275,
     "metadata": {},
     "output_type": "execute_result"
    }
   ],
   "source": [
    "qtypes.value_counts()"
   ]
  },
  {
   "cell_type": "code",
   "execution_count": 131,
   "metadata": {},
   "outputs": [],
   "source": [
    "concodes=[]\n",
    "bincodes=[]\n",
    "for q in qs.keys():\n",
    "    if qs[q][\"possibilities\"][\"type\"]==\"continuous\":\n",
    "        concodes.append(q)\n",
    "    elif qs[q][\"possibilities\"][\"type\"]==\"binary\":\n",
    "        bincodes.append(q)\n"
   ]
  },
  {
   "cell_type": "markdown",
   "metadata": {},
   "source": [
    "## Create a dictionary of every question profile at every point in time"
   ]
  },
  {
   "cell_type": "code",
   "execution_count": 132,
   "metadata": {},
   "outputs": [],
   "source": [
    "scores=dict()\n",
    "for i in qs.keys():\n",
    "    scores[i]=dict()\n",
    "    scores[i][\"t\"]=[]\n",
    "    scores[i][\"np\"]=[]\n",
    "    scores[i][\"nu\"]=[]\n",
    "    scores[i][\"q1\"]=[]\n",
    "    scores[i][\"median\"]=[]\n",
    "    scores[i][\"q3\"]=[]\n",
    "    for b in range(len(qs[i][\"community_prediction\"][\"history\"])):\n",
    "        scores[i][\"t\"].append(qs[i][\"community_prediction\"][\"history\"][b][\"t\"])\n",
    "        scores[i][\"np\"].append(qs[i][\"community_prediction\"][\"history\"][b][\"np\"])\n",
    "        scores[i][\"nu\"].append(qs[i][\"community_prediction\"][\"history\"][b][\"nu\"])\n",
    "        scores[i][\"q1\"].append(qs[i][\"community_prediction\"][\"history\"][b][\"x1\"][\"q1\"])\n",
    "        scores[i][\"median\"].append(qs[i][\"community_prediction\"][\"history\"][b][\"x1\"][\"q2\"])\n",
    "        scores[i][\"q3\"].append(qs[i][\"community_prediction\"][\"history\"][b][\"x1\"][\"q3\"])\n",
    "    \n",
    "    scores[i][\"Resolution\"]=qs[i][\"resolution\"]\n",
    "    scores[i][\"len\"]=len(scores[i][\"t\"])\n",
    "    scores[i][\"ResolveTime\"]=qs[i][\"resolve_time\"]\n",
    "    scores[i][\"quartertime\"]=closest(scores[i][\"t\"], 0.25*time.mktime(pd.to_datetime(scores[i][\"ResolveTime\"]).timetuple())+.75*scores[i][\"t\"][0])"
   ]
  },
  {
   "cell_type": "code",
   "execution_count": 133,
   "metadata": {},
   "outputs": [
    {
     "name": "stdout",
     "output_type": "stream",
     "text": [
      "2884 num\n",
      "2836 num\n",
      "3028 num\n",
      "2977 num\n",
      "2979 num\n",
      "2834 num\n",
      "2893 num\n",
      "2888 num\n",
      "2864 date\n",
      "2838 num\n",
      "2890 date\n",
      "2840 date\n",
      "2873 num\n",
      "2895 num\n",
      "2874 num\n",
      "2905 num\n",
      "2835 date\n",
      "2914 num\n",
      "2843 num\n",
      "2870 num\n",
      "2981 num\n",
      "2869 num\n",
      "2877 num\n",
      "2862 num\n",
      "2844 date\n",
      "2866 num\n",
      "2827 date\n",
      "2846 num\n",
      "2918 num\n",
      "2916 num\n",
      "2911 num\n",
      "2909 num\n",
      "2902 num\n",
      "6563 num\n",
      "2570 num\n",
      "6564 num\n",
      "6565 num\n",
      "6569 num\n",
      "6571 num\n",
      "6570 num\n",
      "6566 num\n",
      "6520 num\n",
      "6586 num\n",
      "6157 num\n",
      "3040 date\n",
      "7018 num\n",
      "5121 date\n",
      "4815 date\n",
      "5897 num\n",
      "7506 num\n",
      "6685 date\n",
      "6298 num\n",
      "5902 num\n",
      "6568 num\n",
      "6559 num\n",
      "6302 num\n",
      "6192 num\n",
      "6572 num\n",
      "6529 num\n",
      "5896 num\n",
      "3723 num\n",
      "503 date\n",
      "6299 num\n",
      "6183 num\n",
      "6246 num\n",
      "6227 num\n",
      "5946 num\n",
      "6526 num\n",
      "6525 num\n",
      "6576 num\n",
      "7483 date\n",
      "6527 num\n",
      "6300 num\n",
      "5947 num\n",
      "5924 num\n",
      "6245 num\n",
      "6528 num\n",
      "4732 num\n",
      "6938 date\n",
      "6517 num\n",
      "487 date\n",
      "6439 num\n",
      "6541 num\n",
      "3056 date\n",
      "5353 num\n",
      "5558 num\n",
      "5218 num\n",
      "7111 date\n",
      "5904 num\n",
      "5948 num\n",
      "4518 num\n",
      "6567 num\n",
      "6155 num\n",
      "5951 num\n",
      "5903 num\n",
      "5276 date\n",
      "6540 num\n",
      "7398 date\n",
      "6229 num\n",
      "6182 num\n",
      "5871 num\n",
      "5900 num\n",
      "6680 num\n",
      "1069 num\n",
      "6087 date\n",
      "5892 num\n",
      "4264 num\n",
      "2805 date\n",
      "4215 num\n",
      "4852 num\n",
      "3698 date\n",
      "6679 num\n",
      "974 num\n",
      "6537 num\n",
      "3771 date\n",
      "1040 date\n",
      "2646 num\n",
      "5460 date\n",
      "2644 date\n",
      "5492 num\n",
      "4932 date\n",
      "5304 date\n",
      "5306 date\n",
      "5485 num\n",
      "5303 date\n",
      "3272 date\n",
      "3729 date\n",
      "4232 date\n",
      "4869 date\n",
      "776 date\n",
      "438 num\n",
      "6728 date\n",
      "5694 date\n",
      "4235 date\n",
      "4043 date\n",
      "3770 date\n",
      "5454 num\n",
      "4292 date\n",
      "2867 num\n",
      "2906 num\n",
      "2848 date\n",
      "2878 num\n",
      "3250 num\n",
      "2868 num\n"
     ]
    }
   ],
   "source": [
    "for q in concodes:\n",
    "    try:\n",
    "        print(q, qs[q][\"possibilities\"][\"format\"])\n",
    "    except KeyError:\n",
    "        print(\"binary\")"
   ]
  },
  {
   "cell_type": "code",
   "execution_count": 277,
   "metadata": {},
   "outputs": [],
   "source": [
    "count=0\n",
    "for q in qs:\n",
    "    if qs[q][\"resolution\"] is None:\n",
    "        count+=1"
   ]
  },
  {
   "cell_type": "code",
   "execution_count": 278,
   "metadata": {},
   "outputs": [
    {
     "data": {
      "text/plain": [
       "183"
      ]
     },
     "execution_count": 278,
     "metadata": {},
     "output_type": "execute_result"
    }
   ],
   "source": [
    "count"
   ]
  },
  {
   "cell_type": "code",
   "execution_count": 276,
   "metadata": {},
   "outputs": [
    {
     "data": {
      "text/plain": [
       "259"
      ]
     },
     "execution_count": 276,
     "metadata": {},
     "output_type": "execute_result"
    }
   ],
   "source": [
    "len(qs)"
   ]
  },
  {
   "cell_type": "code",
   "execution_count": 137,
   "metadata": {},
   "outputs": [
    {
     "name": "stdout",
     "output_type": "stream",
     "text": [
      "41\n"
     ]
    }
   ],
   "source": [
    "count=0\n",
    "for q in qs:\n",
    "    try:\n",
    "        if qs[q][\"possibilities\"][\"format\"] == \"date\":\n",
    "            count+=1\n",
    "    except:\n",
    "        pass\n",
    "print(count)"
   ]
  },
  {
   "cell_type": "code",
   "execution_count": 138,
   "metadata": {},
   "outputs": [
    {
     "name": "stdout",
     "output_type": "stream",
     "text": [
      "34\n"
     ]
    }
   ],
   "source": [
    "count=0\n",
    "for q in qs:\n",
    "    try:\n",
    "        if qs[q][\"possibilities\"][\"format\"] == \"date\":\n",
    "                if qs[q][\"resolution\"] is None:\n",
    "                    count+=1\n",
    "    except:\n",
    "        pass\n",
    "print(count)"
   ]
  },
  {
   "cell_type": "code",
   "execution_count": 139,
   "metadata": {},
   "outputs": [
    {
     "name": "stdout",
     "output_type": "stream",
     "text": [
      "103\n"
     ]
    }
   ],
   "source": [
    "count=0\n",
    "for q in qs:\n",
    "    try:\n",
    "        if qs[q][\"possibilities\"][\"format\"] == \"num\":\n",
    "            count+=1\n",
    "    except:\n",
    "        pass\n",
    "print(count)"
   ]
  },
  {
   "cell_type": "code",
   "execution_count": 140,
   "metadata": {},
   "outputs": [
    {
     "name": "stdout",
     "output_type": "stream",
     "text": [
      "83\n"
     ]
    }
   ],
   "source": [
    "count=0\n",
    "for q in qs:\n",
    "    try:\n",
    "        if qs[q][\"possibilities\"][\"format\"] == \"num\":\n",
    "                if qs[q][\"resolution\"] is None:\n",
    "                    count+=1\n",
    "    except:\n",
    "        pass\n",
    "print(count)"
   ]
  },
  {
   "cell_type": "code",
   "execution_count": 96,
   "metadata": {},
   "outputs": [],
   "source": [
    "resnum={}\n",
    "for q in qs:\n",
    "    try:\n",
    "        if qs[q][\"possibilities\"][\"format\"] == \"num\":\n",
    "                if qs[q][\"resolution\"] is not None:\n",
    "                    resnum[q]=qs[q]\n",
    "    except:\n",
    "        pass"
   ]
  },
  {
   "cell_type": "code",
   "execution_count": 109,
   "metadata": {},
   "outputs": [
    {
     "data": {
      "text/plain": [
       "dict_keys([2884, 3028, 2977, 2893, 2843, 2862, 2866, 2918, 2909, 2902, 2570, 4732, 6439, 5903, 5871, 5900, 1069, 438, 5454, 2878])"
      ]
     },
     "execution_count": 109,
     "metadata": {},
     "output_type": "execute_result"
    }
   ],
   "source": [
    "resnum.keys()"
   ]
  },
  {
   "cell_type": "code",
   "execution_count": 107,
   "metadata": {},
   "outputs": [
    {
     "data": {
      "text/plain": [
       "20"
      ]
     },
     "execution_count": 107,
     "metadata": {},
     "output_type": "execute_result"
    }
   ],
   "source": [
    "len(resnum.keys())"
   ]
  },
  {
   "cell_type": "markdown",
   "metadata": {},
   "source": [
    "## Get the profile of each question 1/4 of the way through it's open lifetime"
   ]
  },
  {
   "cell_type": "code",
   "execution_count": 171,
   "metadata": {},
   "outputs": [],
   "source": [
    "snapshots={}\n",
    "for i in qs.keys():\n",
    "    snapshots[i]={}\n",
    "    snapshots[i]['t']=scores[i][\"t\"][scores[i][\"quartertime\"]]\n",
    "    snapshots[i]['median']=scores[i][\"median\"][scores[i][\"quartertime\"]]\n",
    "    snapshots[i]['q1']=scores[i][\"q1\"][scores[i][\"quartertime\"]]\n",
    "    snapshots[i]['q3']=scores[i][\"q3\"][scores[i][\"quartertime\"]]\n",
    "    snapshots[i][\"ResolveTime\"]=scores[i][\"ResolveTime\"]\n",
    "    snapshots[i][\"np\"]=scores[i][\"np\"][scores[i][\"quartertime\"]]\n",
    "    snapshots[i][\"nu\"]=scores[i][\"nu\"][scores[i][\"quartertime\"]]\n",
    "    snapshots[i][\"Resolution\"]=scores[i][\"Resolution\"]"
   ]
  },
  {
   "cell_type": "markdown",
   "metadata": {},
   "source": [
    "## From google doc, these are for orienting the numeric questions"
   ]
  },
  {
   "cell_type": "code",
   "execution_count": 172,
   "metadata": {},
   "outputs": [],
   "source": [
    "mults={2884:1,2570:1,3028:-1,2977:0,2893:-1,2843:1,2862:-1,2866:-1,2878:1,2918:-1,2909:-1,2902:-1,5871:-1,6439:-1,5900:-1, 1069:1, 438:-1}"
   ]
  },
  {
   "cell_type": "code",
   "execution_count": 173,
   "metadata": {},
   "outputs": [],
   "source": [
    "numcodes=mults.keys()"
   ]
  },
  {
   "cell_type": "code",
   "execution_count": 174,
   "metadata": {},
   "outputs": [],
   "source": [
    "numcodes=mults.keys()\n",
    "for i in numcodes:\n",
    "    if mults[i]==-1:\n",
    "        a=snapshots[i][\"q1\"]\n",
    "        b=snapshots[i][\"q3\"]\n",
    "        snapshots[i][\"Resolution\"]=1-snapshots[i][\"Resolution\"]\n",
    "        snapshots[i][\"median\"]=1-snapshots[i][\"median\"]\n",
    "        snapshots[i][\"q1\"]=1-b\n",
    "        snapshots[i][\"q3\"]=1-a"
   ]
  },
  {
   "cell_type": "code",
   "execution_count": 175,
   "metadata": {},
   "outputs": [],
   "source": [
    "for i in numcodes:\n",
    "    if mults[i]==0:\n",
    "        snapshots[i][\"Speed\"]=\"Not Relevant\"\n",
    "    elif snapshots[i][\"Resolution\"]<snapshots[i][\"q1\"]:\n",
    "        snapshots[i][\"Speed\"]=\"Much Faster\"\n",
    "    elif snapshots[i][\"Resolution\"]<snapshots[i][\"median\"]:\n",
    "        snapshots[i][\"Speed\"]=\"Slightly Faster\"\n",
    "    elif snapshots[i][\"Resolution\"]<snapshots[i][\"q3\"]:\n",
    "        snapshots[i][\"Speed\"]=\"Slightly Slower\"\n",
    "    else:\n",
    "        snapshots[i][\"Speed\"]=\"Much Slower\"\n",
    "        "
   ]
  },
  {
   "cell_type": "code",
   "execution_count": 176,
   "metadata": {},
   "outputs": [
    {
     "name": "stdout",
     "output_type": "stream",
     "text": [
      "2884 Much Faster\n",
      "2570 Much Slower\n",
      "3028 Slightly Slower\n",
      "2977 Not Relevant\n",
      "2893 Much Faster\n",
      "2843 Much Slower\n",
      "2862 Much Slower\n",
      "2866 Much Slower\n",
      "2878 Much Faster\n",
      "2918 Much Faster\n",
      "2909 Much Faster\n",
      "2902 Much Faster\n",
      "5871 Much Slower\n",
      "6439 Much Faster\n",
      "5900 Slightly Slower\n",
      "1069 Much Faster\n",
      "438 Much Slower\n"
     ]
    }
   ],
   "source": [
    "\n",
    "for i in numcodes:\n",
    "    print(i,snapshots[i][\"Speed\"])"
   ]
  },
  {
   "cell_type": "code",
   "execution_count": 177,
   "metadata": {},
   "outputs": [],
   "source": [
    "speeds=[]\n",
    "for i in numcodes:\n",
    "    speeds.append(snapshots[i][\"Speed\"])"
   ]
  },
  {
   "cell_type": "code",
   "execution_count": 178,
   "metadata": {},
   "outputs": [
    {
     "data": {
      "text/plain": [
       "<AxesSubplot:title={'center':'Resolved Numeric Questions and Their Faster/Slower Timelines Implications'}>"
      ]
     },
     "execution_count": 178,
     "metadata": {},
     "output_type": "execute_result"
    },
    {
     "data": {
      "image/png": "[encoded data removed]",
      "text/plain": [
       "<Figure size 432x288 with 1 Axes>"
      ]
     },
     "metadata": {
      "needs_background": "light"
     },
     "output_type": "display_data"
    }
   ],
   "source": [
    "pd.Series(speeds).value_counts().drop(\"Not Relevant\").plot(kind=\"bar\", title=\"Resolved Numeric Questions and Their Faster/Slower Timelines Implications\")"
   ]
  },
  {
   "cell_type": "code",
   "execution_count": null,
   "metadata": {},
   "outputs": [],
   "source": []
  },
  {
   "cell_type": "code",
   "execution_count": 179,
   "metadata": {},
   "outputs": [],
   "source": [
    "ll=[]\n",
    "for i in dateqs:\n",
    "    ll.append([i, snapshots[i][\"t\"],snapshots[i]['q1'],snapshots[i][\"median\"],snapshots[i][\"q3\"],snapshots[i][\"Resolution\"]])"
   ]
  },
  {
   "cell_type": "code",
   "execution_count": 180,
   "metadata": {},
   "outputs": [
    {
     "data": {
      "text/html": [
       "<div>\n",
       "<style scoped>\n",
       "    .dataframe tbody tr th:only-of-type {\n",
       "        vertical-align: middle;\n",
       "    }\n",
       "\n",
       "    .dataframe tbody tr th {\n",
       "        vertical-align: top;\n",
       "    }\n",
       "\n",
       "    .dataframe thead th {\n",
       "        text-align: right;\n",
       "    }\n",
       "</style>\n",
       "<table border=\"1\" class=\"dataframe\">\n",
       "  <thead>\n",
       "    <tr style=\"text-align: right;\">\n",
       "      <th></th>\n",
       "      <th>q</th>\n",
       "      <th>t</th>\n",
       "      <th>q1</th>\n",
       "      <th>q2</th>\n",
       "      <th>q3</th>\n",
       "      <th>Res</th>\n",
       "    </tr>\n",
       "    <tr>\n",
       "      <th>q</th>\n",
       "      <th></th>\n",
       "      <th></th>\n",
       "      <th></th>\n",
       "      <th></th>\n",
       "      <th></th>\n",
       "      <th></th>\n",
       "    </tr>\n",
       "  </thead>\n",
       "  <tbody>\n",
       "    <tr>\n",
       "      <th>2864</th>\n",
       "      <td>2864</td>\n",
       "      <td>1.562280e+09</td>\n",
       "      <td>0.04106</td>\n",
       "      <td>0.09611</td>\n",
       "      <td>0.18651</td>\n",
       "      <td>0.004059</td>\n",
       "    </tr>\n",
       "    <tr>\n",
       "      <th>2890</th>\n",
       "      <td>2890</td>\n",
       "      <td>1.576082e+09</td>\n",
       "      <td>0.34286</td>\n",
       "      <td>0.52668</td>\n",
       "      <td>0.78761</td>\n",
       "      <td>NaN</td>\n",
       "    </tr>\n",
       "    <tr>\n",
       "      <th>2840</th>\n",
       "      <td>2840</td>\n",
       "      <td>1.576082e+09</td>\n",
       "      <td>0.45628</td>\n",
       "      <td>0.63106</td>\n",
       "      <td>0.93522</td>\n",
       "      <td>NaN</td>\n",
       "    </tr>\n",
       "    <tr>\n",
       "      <th>2835</th>\n",
       "      <td>2835</td>\n",
       "      <td>1.610748e+09</td>\n",
       "      <td>-0.00100</td>\n",
       "      <td>0.00630</td>\n",
       "      <td>0.09287</td>\n",
       "      <td>NaN</td>\n",
       "    </tr>\n",
       "    <tr>\n",
       "      <th>2844</th>\n",
       "      <td>2844</td>\n",
       "      <td>1.610748e+09</td>\n",
       "      <td>0.03578</td>\n",
       "      <td>0.06741</td>\n",
       "      <td>0.14177</td>\n",
       "      <td>NaN</td>\n",
       "    </tr>\n",
       "  </tbody>\n",
       "</table>\n",
       "</div>"
      ],
      "text/plain": [
       "         q             t       q1       q2       q3       Res\n",
       "q                                                            \n",
       "2864  2864  1.562280e+09  0.04106  0.09611  0.18651  0.004059\n",
       "2890  2890  1.576082e+09  0.34286  0.52668  0.78761       NaN\n",
       "2840  2840  1.576082e+09  0.45628  0.63106  0.93522       NaN\n",
       "2835  2835  1.610748e+09 -0.00100  0.00630  0.09287       NaN\n",
       "2844  2844  1.610748e+09  0.03578  0.06741  0.14177       NaN"
      ]
     },
     "execution_count": 180,
     "metadata": {},
     "output_type": "execute_result"
    }
   ],
   "source": [
    "datesframe=pd.DataFrame(ll, columns=[\"q\",\"t\",\"q1\",\"q2\",\"q3\",\"Res\"])\n",
    "datesframe.index=datesframe[\"q\"]\n",
    "datesframe.head()"
   ]
  },
  {
   "cell_type": "code",
   "execution_count": 181,
   "metadata": {
    "scrolled": true
   },
   "outputs": [
    {
     "name": "stdout",
     "output_type": "stream",
     "text": [
      "2030-05-06\n",
      "2025-01-01\n",
      "2025-01-01\n",
      "2050-01-01\n",
      "2029-12-29\n",
      "2029-12-27\n",
      "2060-01-01\n",
      "2199-12-25\n",
      "2110-01-04\n",
      "2025-12-31\n",
      "2039-12-29\n",
      "2039-12-31\n",
      "2026-03-28\n",
      "2030-01-01\n",
      "2031-08-29\n",
      "2045-01-01\n",
      "2039-12-31\n",
      "2081-06-20\n",
      "2041-01-01\n",
      "2100-01-01\n",
      "2099-12-30\n",
      "2099-12-30\n",
      "2022-06-01\n",
      "2034-12-30\n",
      "2030-12-29\n",
      "2030-08-04\n",
      "2034-12-26\n",
      "2034-12-26\n",
      "2034-12-23\n",
      "2023-11-30\n",
      "2119-12-29\n",
      "2030-01-01\n",
      "2024-07-21\n",
      "2025-12-29\n",
      "2099-12-23\n",
      "2035-11-10\n",
      "2030-01-01\n",
      "2022-04-09\n",
      "2099-12-25\n",
      "2100-01-02\n",
      "2029-12-29\n"
     ]
    }
   ],
   "source": [
    "for q in dateqs:\n",
    "    print(qs[q]['possibilities'][\"scale\"][\"max\"],)"
   ]
  },
  {
   "cell_type": "code",
   "execution_count": 182,
   "metadata": {},
   "outputs": [],
   "source": [
    "datesframe[\"max\"]=datesframe[\"q\"].apply(lambda x: qs[x]['possibilities'][\"scale\"][\"max\"])\n",
    "datesframe[\"min\"]=datesframe[\"q\"].apply(lambda x: qs[x]['possibilities'][\"scale\"][\"min\"])"
   ]
  },
  {
   "cell_type": "code",
   "execution_count": 183,
   "metadata": {},
   "outputs": [],
   "source": []
  },
  {
   "cell_type": "code",
   "execution_count": 184,
   "metadata": {},
   "outputs": [],
   "source": [
    "datesframe[\"q1Time\"]=datesframe[[\"q1\",\"min\", \"max\"]].apply(lambda x: gettimeinrange(*x), axis=1)"
   ]
  },
  {
   "cell_type": "code",
   "execution_count": 185,
   "metadata": {},
   "outputs": [],
   "source": [
    "datesframe[\"q2Time\"]=datesframe[[\"q2\",\"min\", \"max\"]].apply(lambda x: gettimeinrange(*x), axis=1)"
   ]
  },
  {
   "cell_type": "code",
   "execution_count": 186,
   "metadata": {},
   "outputs": [],
   "source": [
    "datesframe[\"q3Time\"]=datesframe[[\"q3\",\"min\", \"max\"]].apply(lambda x: gettimeinrange(*x), axis=1)"
   ]
  },
  {
   "cell_type": "code",
   "execution_count": 187,
   "metadata": {},
   "outputs": [
    {
     "data": {
      "text/html": [
       "<div>\n",
       "<style scoped>\n",
       "    .dataframe tbody tr th:only-of-type {\n",
       "        vertical-align: middle;\n",
       "    }\n",
       "\n",
       "    .dataframe tbody tr th {\n",
       "        vertical-align: top;\n",
       "    }\n",
       "\n",
       "    .dataframe thead th {\n",
       "        text-align: right;\n",
       "    }\n",
       "</style>\n",
       "<table border=\"1\" class=\"dataframe\">\n",
       "  <thead>\n",
       "    <tr style=\"text-align: right;\">\n",
       "      <th></th>\n",
       "      <th>q</th>\n",
       "      <th>t</th>\n",
       "      <th>q1</th>\n",
       "      <th>q2</th>\n",
       "      <th>q3</th>\n",
       "      <th>Res</th>\n",
       "      <th>max</th>\n",
       "      <th>min</th>\n",
       "      <th>q1Time</th>\n",
       "      <th>q2Time</th>\n",
       "      <th>q3Time</th>\n",
       "    </tr>\n",
       "    <tr>\n",
       "      <th>q</th>\n",
       "      <th></th>\n",
       "      <th></th>\n",
       "      <th></th>\n",
       "      <th></th>\n",
       "      <th></th>\n",
       "      <th></th>\n",
       "      <th></th>\n",
       "      <th></th>\n",
       "      <th></th>\n",
       "      <th></th>\n",
       "      <th></th>\n",
       "    </tr>\n",
       "  </thead>\n",
       "  <tbody>\n",
       "    <tr>\n",
       "      <th>2864</th>\n",
       "      <td>2864</td>\n",
       "      <td>1.562280e+09</td>\n",
       "      <td>0.04106</td>\n",
       "      <td>0.09611</td>\n",
       "      <td>0.18651</td>\n",
       "      <td>0.004059</td>\n",
       "      <td>2030-05-06</td>\n",
       "      <td>2020-01-01</td>\n",
       "      <td>2020-06-04 02:59:32.352000000</td>\n",
       "      <td>2020-12-29 02:29:09.312</td>\n",
       "      <td>2021-12-05 15:14:04.992</td>\n",
       "    </tr>\n",
       "    <tr>\n",
       "      <th>2890</th>\n",
       "      <td>2890</td>\n",
       "      <td>1.576082e+09</td>\n",
       "      <td>0.34286</td>\n",
       "      <td>0.52668</td>\n",
       "      <td>0.78761</td>\n",
       "      <td>NaN</td>\n",
       "      <td>2025-01-01</td>\n",
       "      <td>2018-12-12</td>\n",
       "      <td>2021-01-08 09:45:06.048000000</td>\n",
       "      <td>2022-02-19 00:23:16.224</td>\n",
       "      <td>2023-09-19 04:38:22.848</td>\n",
       "    </tr>\n",
       "    <tr>\n",
       "      <th>2835</th>\n",
       "      <td>2835</td>\n",
       "      <td>1.610748e+09</td>\n",
       "      <td>-0.00100</td>\n",
       "      <td>0.00630</td>\n",
       "      <td>0.09287</td>\n",
       "      <td>NaN</td>\n",
       "      <td>2050-01-01</td>\n",
       "      <td>2020-01-01</td>\n",
       "      <td>2019-12-21 01:00:28.800000000</td>\n",
       "      <td>2020-03-10 00:50:58.560</td>\n",
       "      <td>2022-10-14 16:04:01.344</td>\n",
       "    </tr>\n",
       "    <tr>\n",
       "      <th>2844</th>\n",
       "      <td>2844</td>\n",
       "      <td>1.610748e+09</td>\n",
       "      <td>0.03578</td>\n",
       "      <td>0.06741</td>\n",
       "      <td>0.14177</td>\n",
       "      <td>NaN</td>\n",
       "      <td>2029-12-29</td>\n",
       "      <td>2019-12-10</td>\n",
       "      <td>2020-04-19 09:13:11.424000000</td>\n",
       "      <td>2020-08-13 12:42:30.528</td>\n",
       "      <td>2021-05-13 13:54:23.616</td>\n",
       "    </tr>\n",
       "    <tr>\n",
       "      <th>503</th>\n",
       "      <td>503</td>\n",
       "      <td>1.512395e+09</td>\n",
       "      <td>0.11231</td>\n",
       "      <td>0.23421</td>\n",
       "      <td>0.42700</td>\n",
       "      <td>0.048738</td>\n",
       "      <td>2039-12-29</td>\n",
       "      <td>2017-08-31</td>\n",
       "      <td>2020-03-03 21:18:47.520000000</td>\n",
       "      <td>2022-11-22 23:34:52.320</td>\n",
       "      <td>2027-03-14 04:26:24.000</td>\n",
       "    </tr>\n",
       "    <tr>\n",
       "      <th>3056</th>\n",
       "      <td>3056</td>\n",
       "      <td>1.595888e+09</td>\n",
       "      <td>0.14827</td>\n",
       "      <td>0.27382</td>\n",
       "      <td>0.49189</td>\n",
       "      <td>NaN</td>\n",
       "      <td>2031-08-29</td>\n",
       "      <td>2019-08-29</td>\n",
       "      <td>2021-06-08 20:49:04.224000008</td>\n",
       "      <td>2022-12-11 03:40:24.384</td>\n",
       "      <td>2025-07-23 22:53:34.368</td>\n",
       "    </tr>\n",
       "    <tr>\n",
       "      <th>1040</th>\n",
       "      <td>1040</td>\n",
       "      <td>1.538105e+09</td>\n",
       "      <td>0.17421</td>\n",
       "      <td>0.28329</td>\n",
       "      <td>0.48675</td>\n",
       "      <td>0.214494</td>\n",
       "      <td>2022-06-01</td>\n",
       "      <td>2018-08-01</td>\n",
       "      <td>2019-04-01 21:27:21.600000000</td>\n",
       "      <td>2019-09-01 14:32:38.400</td>\n",
       "      <td>2020-06-12 10:48:00.000</td>\n",
       "    </tr>\n",
       "    <tr>\n",
       "      <th>3272</th>\n",
       "      <td>3272</td>\n",
       "      <td>1.624810e+09</td>\n",
       "      <td>0.38169</td>\n",
       "      <td>0.50673</td>\n",
       "      <td>0.68572</td>\n",
       "      <td>NaN</td>\n",
       "      <td>2023-11-30</td>\n",
       "      <td>2019-10-31</td>\n",
       "      <td>2021-05-22 02:23:41.856000000</td>\n",
       "      <td>2021-11-24 12:49:34.752</td>\n",
       "      <td>2022-08-18 09:48:16.128</td>\n",
       "    </tr>\n",
       "    <tr>\n",
       "      <th>4869</th>\n",
       "      <td>4869</td>\n",
       "      <td>1.599876e+09</td>\n",
       "      <td>0.07267</td>\n",
       "      <td>0.10956</td>\n",
       "      <td>0.17983</td>\n",
       "      <td>0.110926</td>\n",
       "      <td>2024-07-21</td>\n",
       "      <td>2020-07-21</td>\n",
       "      <td>2020-11-04 04:06:03.168000000</td>\n",
       "      <td>2020-12-28 01:36:42.624</td>\n",
       "      <td>2021-04-09 17:33:32.832</td>\n",
       "    </tr>\n",
       "    <tr>\n",
       "      <th>776</th>\n",
       "      <td>776</td>\n",
       "      <td>1.541018e+09</td>\n",
       "      <td>0.11630</td>\n",
       "      <td>0.19206</td>\n",
       "      <td>0.30836</td>\n",
       "      <td>NaN</td>\n",
       "      <td>2025-12-29</td>\n",
       "      <td>2018-04-06</td>\n",
       "      <td>2019-02-28 10:20:55.680000000</td>\n",
       "      <td>2019-09-30 09:03:30.816</td>\n",
       "      <td>2020-08-23 19:24:26.496</td>\n",
       "    </tr>\n",
       "    <tr>\n",
       "      <th>4043</th>\n",
       "      <td>4043</td>\n",
       "      <td>1.600085e+09</td>\n",
       "      <td>0.33022</td>\n",
       "      <td>0.45095</td>\n",
       "      <td>0.60785</td>\n",
       "      <td>NaN</td>\n",
       "      <td>2022-04-09</td>\n",
       "      <td>2020-04-09</td>\n",
       "      <td>2020-12-06 01:27:15.840000000</td>\n",
       "      <td>2021-03-04 04:38:38.400</td>\n",
       "      <td>2021-06-26 17:31:55.200</td>\n",
       "    </tr>\n",
       "  </tbody>\n",
       "</table>\n",
       "</div>"
      ],
      "text/plain": [
       "         q             t       q1       q2       q3       Res         max  \\\n",
       "q                                                                           \n",
       "2864  2864  1.562280e+09  0.04106  0.09611  0.18651  0.004059  2030-05-06   \n",
       "2890  2890  1.576082e+09  0.34286  0.52668  0.78761       NaN  2025-01-01   \n",
       "2835  2835  1.610748e+09 -0.00100  0.00630  0.09287       NaN  2050-01-01   \n",
       "2844  2844  1.610748e+09  0.03578  0.06741  0.14177       NaN  2029-12-29   \n",
       "503    503  1.512395e+09  0.11231  0.23421  0.42700  0.048738  2039-12-29   \n",
       "3056  3056  1.595888e+09  0.14827  0.27382  0.49189       NaN  2031-08-29   \n",
       "1040  1040  1.538105e+09  0.17421  0.28329  0.48675  0.214494  2022-06-01   \n",
       "3272  3272  1.624810e+09  0.38169  0.50673  0.68572       NaN  2023-11-30   \n",
       "4869  4869  1.599876e+09  0.07267  0.10956  0.17983  0.110926  2024-07-21   \n",
       "776    776  1.541018e+09  0.11630  0.19206  0.30836       NaN  2025-12-29   \n",
       "4043  4043  1.600085e+09  0.33022  0.45095  0.60785       NaN  2022-04-09   \n",
       "\n",
       "             min                        q1Time                  q2Time  \\\n",
       "q                                                                        \n",
       "2864  2020-01-01 2020-06-04 02:59:32.352000000 2020-12-29 02:29:09.312   \n",
       "2890  2018-12-12 2021-01-08 09:45:06.048000000 2022-02-19 00:23:16.224   \n",
       "2835  2020-01-01 2019-12-21 01:00:28.800000000 2020-03-10 00:50:58.560   \n",
       "2844  2019-12-10 2020-04-19 09:13:11.424000000 2020-08-13 12:42:30.528   \n",
       "503   2017-08-31 2020-03-03 21:18:47.520000000 2022-11-22 23:34:52.320   \n",
       "3056  2019-08-29 2021-06-08 20:49:04.224000008 2022-12-11 03:40:24.384   \n",
       "1040  2018-08-01 2019-04-01 21:27:21.600000000 2019-09-01 14:32:38.400   \n",
       "3272  2019-10-31 2021-05-22 02:23:41.856000000 2021-11-24 12:49:34.752   \n",
       "4869  2020-07-21 2020-11-04 04:06:03.168000000 2020-12-28 01:36:42.624   \n",
       "776   2018-04-06 2019-02-28 10:20:55.680000000 2019-09-30 09:03:30.816   \n",
       "4043  2020-04-09 2020-12-06 01:27:15.840000000 2021-03-04 04:38:38.400   \n",
       "\n",
       "                      q3Time  \n",
       "q                             \n",
       "2864 2021-12-05 15:14:04.992  \n",
       "2890 2023-09-19 04:38:22.848  \n",
       "2835 2022-10-14 16:04:01.344  \n",
       "2844 2021-05-13 13:54:23.616  \n",
       "503  2027-03-14 04:26:24.000  \n",
       "3056 2025-07-23 22:53:34.368  \n",
       "1040 2020-06-12 10:48:00.000  \n",
       "3272 2022-08-18 09:48:16.128  \n",
       "4869 2021-04-09 17:33:32.832  \n",
       "776  2020-08-23 19:24:26.496  \n",
       "4043 2021-06-26 17:31:55.200  "
      ]
     },
     "execution_count": 187,
     "metadata": {},
     "output_type": "execute_result"
    }
   ],
   "source": [
    "datesframe[datesframe.q1Time<datetime.today()]"
   ]
  },
  {
   "cell_type": "code",
   "execution_count": 188,
   "metadata": {},
   "outputs": [
    {
     "data": {
      "text/html": [
       "<div>\n",
       "<style scoped>\n",
       "    .dataframe tbody tr th:only-of-type {\n",
       "        vertical-align: middle;\n",
       "    }\n",
       "\n",
       "    .dataframe tbody tr th {\n",
       "        vertical-align: top;\n",
       "    }\n",
       "\n",
       "    .dataframe thead th {\n",
       "        text-align: right;\n",
       "    }\n",
       "</style>\n",
       "<table border=\"1\" class=\"dataframe\">\n",
       "  <thead>\n",
       "    <tr style=\"text-align: right;\">\n",
       "      <th></th>\n",
       "      <th>q</th>\n",
       "      <th>t</th>\n",
       "      <th>q1</th>\n",
       "      <th>q2</th>\n",
       "      <th>q3</th>\n",
       "      <th>Res</th>\n",
       "      <th>max</th>\n",
       "      <th>min</th>\n",
       "      <th>q1Time</th>\n",
       "      <th>q2Time</th>\n",
       "      <th>q3Time</th>\n",
       "    </tr>\n",
       "    <tr>\n",
       "      <th>q</th>\n",
       "      <th></th>\n",
       "      <th></th>\n",
       "      <th></th>\n",
       "      <th></th>\n",
       "      <th></th>\n",
       "      <th></th>\n",
       "      <th></th>\n",
       "      <th></th>\n",
       "      <th></th>\n",
       "      <th></th>\n",
       "      <th></th>\n",
       "    </tr>\n",
       "  </thead>\n",
       "  <tbody>\n",
       "    <tr>\n",
       "      <th>2864</th>\n",
       "      <td>2864</td>\n",
       "      <td>1.562280e+09</td>\n",
       "      <td>0.04106</td>\n",
       "      <td>0.09611</td>\n",
       "      <td>0.18651</td>\n",
       "      <td>0.004059</td>\n",
       "      <td>2030-05-06</td>\n",
       "      <td>2020-01-01</td>\n",
       "      <td>2020-06-04 02:59:32.352</td>\n",
       "      <td>2020-12-29 02:29:09.312</td>\n",
       "      <td>2021-12-05 15:14:04.992</td>\n",
       "    </tr>\n",
       "    <tr>\n",
       "      <th>2835</th>\n",
       "      <td>2835</td>\n",
       "      <td>1.610748e+09</td>\n",
       "      <td>-0.00100</td>\n",
       "      <td>0.00630</td>\n",
       "      <td>0.09287</td>\n",
       "      <td>NaN</td>\n",
       "      <td>2050-01-01</td>\n",
       "      <td>2020-01-01</td>\n",
       "      <td>2019-12-21 01:00:28.800</td>\n",
       "      <td>2020-03-10 00:50:58.560</td>\n",
       "      <td>2022-10-14 16:04:01.344</td>\n",
       "    </tr>\n",
       "    <tr>\n",
       "      <th>2844</th>\n",
       "      <td>2844</td>\n",
       "      <td>1.610748e+09</td>\n",
       "      <td>0.03578</td>\n",
       "      <td>0.06741</td>\n",
       "      <td>0.14177</td>\n",
       "      <td>NaN</td>\n",
       "      <td>2029-12-29</td>\n",
       "      <td>2019-12-10</td>\n",
       "      <td>2020-04-19 09:13:11.424</td>\n",
       "      <td>2020-08-13 12:42:30.528</td>\n",
       "      <td>2021-05-13 13:54:23.616</td>\n",
       "    </tr>\n",
       "    <tr>\n",
       "      <th>1040</th>\n",
       "      <td>1040</td>\n",
       "      <td>1.538105e+09</td>\n",
       "      <td>0.17421</td>\n",
       "      <td>0.28329</td>\n",
       "      <td>0.48675</td>\n",
       "      <td>0.214494</td>\n",
       "      <td>2022-06-01</td>\n",
       "      <td>2018-08-01</td>\n",
       "      <td>2019-04-01 21:27:21.600</td>\n",
       "      <td>2019-09-01 14:32:38.400</td>\n",
       "      <td>2020-06-12 10:48:00.000</td>\n",
       "    </tr>\n",
       "    <tr>\n",
       "      <th>4869</th>\n",
       "      <td>4869</td>\n",
       "      <td>1.599876e+09</td>\n",
       "      <td>0.07267</td>\n",
       "      <td>0.10956</td>\n",
       "      <td>0.17983</td>\n",
       "      <td>0.110926</td>\n",
       "      <td>2024-07-21</td>\n",
       "      <td>2020-07-21</td>\n",
       "      <td>2020-11-04 04:06:03.168</td>\n",
       "      <td>2020-12-28 01:36:42.624</td>\n",
       "      <td>2021-04-09 17:33:32.832</td>\n",
       "    </tr>\n",
       "    <tr>\n",
       "      <th>776</th>\n",
       "      <td>776</td>\n",
       "      <td>1.541018e+09</td>\n",
       "      <td>0.11630</td>\n",
       "      <td>0.19206</td>\n",
       "      <td>0.30836</td>\n",
       "      <td>NaN</td>\n",
       "      <td>2025-12-29</td>\n",
       "      <td>2018-04-06</td>\n",
       "      <td>2019-02-28 10:20:55.680</td>\n",
       "      <td>2019-09-30 09:03:30.816</td>\n",
       "      <td>2020-08-23 19:24:26.496</td>\n",
       "    </tr>\n",
       "    <tr>\n",
       "      <th>4043</th>\n",
       "      <td>4043</td>\n",
       "      <td>1.600085e+09</td>\n",
       "      <td>0.33022</td>\n",
       "      <td>0.45095</td>\n",
       "      <td>0.60785</td>\n",
       "      <td>NaN</td>\n",
       "      <td>2022-04-09</td>\n",
       "      <td>2020-04-09</td>\n",
       "      <td>2020-12-06 01:27:15.840</td>\n",
       "      <td>2021-03-04 04:38:38.400</td>\n",
       "      <td>2021-06-26 17:31:55.200</td>\n",
       "    </tr>\n",
       "  </tbody>\n",
       "</table>\n",
       "</div>"
      ],
      "text/plain": [
       "         q             t       q1       q2       q3       Res         max  \\\n",
       "q                                                                           \n",
       "2864  2864  1.562280e+09  0.04106  0.09611  0.18651  0.004059  2030-05-06   \n",
       "2835  2835  1.610748e+09 -0.00100  0.00630  0.09287       NaN  2050-01-01   \n",
       "2844  2844  1.610748e+09  0.03578  0.06741  0.14177       NaN  2029-12-29   \n",
       "1040  1040  1.538105e+09  0.17421  0.28329  0.48675  0.214494  2022-06-01   \n",
       "4869  4869  1.599876e+09  0.07267  0.10956  0.17983  0.110926  2024-07-21   \n",
       "776    776  1.541018e+09  0.11630  0.19206  0.30836       NaN  2025-12-29   \n",
       "4043  4043  1.600085e+09  0.33022  0.45095  0.60785       NaN  2022-04-09   \n",
       "\n",
       "             min                  q1Time                  q2Time  \\\n",
       "q                                                                  \n",
       "2864  2020-01-01 2020-06-04 02:59:32.352 2020-12-29 02:29:09.312   \n",
       "2835  2020-01-01 2019-12-21 01:00:28.800 2020-03-10 00:50:58.560   \n",
       "2844  2019-12-10 2020-04-19 09:13:11.424 2020-08-13 12:42:30.528   \n",
       "1040  2018-08-01 2019-04-01 21:27:21.600 2019-09-01 14:32:38.400   \n",
       "4869  2020-07-21 2020-11-04 04:06:03.168 2020-12-28 01:36:42.624   \n",
       "776   2018-04-06 2019-02-28 10:20:55.680 2019-09-30 09:03:30.816   \n",
       "4043  2020-04-09 2020-12-06 01:27:15.840 2021-03-04 04:38:38.400   \n",
       "\n",
       "                      q3Time  \n",
       "q                             \n",
       "2864 2021-12-05 15:14:04.992  \n",
       "2835 2022-10-14 16:04:01.344  \n",
       "2844 2021-05-13 13:54:23.616  \n",
       "1040 2020-06-12 10:48:00.000  \n",
       "4869 2021-04-09 17:33:32.832  \n",
       "776  2020-08-23 19:24:26.496  \n",
       "4043 2021-06-26 17:31:55.200  "
      ]
     },
     "execution_count": 188,
     "metadata": {},
     "output_type": "execute_result"
    }
   ],
   "source": [
    "datesframe[datesframe.q2Time<datetime.today()]"
   ]
  },
  {
   "cell_type": "code",
   "execution_count": 189,
   "metadata": {},
   "outputs": [
    {
     "data": {
      "text/html": [
       "<div>\n",
       "<style scoped>\n",
       "    .dataframe tbody tr th:only-of-type {\n",
       "        vertical-align: middle;\n",
       "    }\n",
       "\n",
       "    .dataframe tbody tr th {\n",
       "        vertical-align: top;\n",
       "    }\n",
       "\n",
       "    .dataframe thead th {\n",
       "        text-align: right;\n",
       "    }\n",
       "</style>\n",
       "<table border=\"1\" class=\"dataframe\">\n",
       "  <thead>\n",
       "    <tr style=\"text-align: right;\">\n",
       "      <th></th>\n",
       "      <th>q</th>\n",
       "      <th>t</th>\n",
       "      <th>q1</th>\n",
       "      <th>q2</th>\n",
       "      <th>q3</th>\n",
       "      <th>Res</th>\n",
       "      <th>max</th>\n",
       "      <th>min</th>\n",
       "      <th>q1Time</th>\n",
       "      <th>q2Time</th>\n",
       "      <th>q3Time</th>\n",
       "    </tr>\n",
       "    <tr>\n",
       "      <th>q</th>\n",
       "      <th></th>\n",
       "      <th></th>\n",
       "      <th></th>\n",
       "      <th></th>\n",
       "      <th></th>\n",
       "      <th></th>\n",
       "      <th></th>\n",
       "      <th></th>\n",
       "      <th></th>\n",
       "      <th></th>\n",
       "      <th></th>\n",
       "    </tr>\n",
       "  </thead>\n",
       "  <tbody>\n",
       "    <tr>\n",
       "      <th>2844</th>\n",
       "      <td>2844</td>\n",
       "      <td>1.610748e+09</td>\n",
       "      <td>0.03578</td>\n",
       "      <td>0.06741</td>\n",
       "      <td>0.14177</td>\n",
       "      <td>NaN</td>\n",
       "      <td>2029-12-29</td>\n",
       "      <td>2019-12-10</td>\n",
       "      <td>2020-04-19 09:13:11.424</td>\n",
       "      <td>2020-08-13 12:42:30.528</td>\n",
       "      <td>2021-05-13 13:54:23.616</td>\n",
       "    </tr>\n",
       "    <tr>\n",
       "      <th>1040</th>\n",
       "      <td>1040</td>\n",
       "      <td>1.538105e+09</td>\n",
       "      <td>0.17421</td>\n",
       "      <td>0.28329</td>\n",
       "      <td>0.48675</td>\n",
       "      <td>0.214494</td>\n",
       "      <td>2022-06-01</td>\n",
       "      <td>2018-08-01</td>\n",
       "      <td>2019-04-01 21:27:21.600</td>\n",
       "      <td>2019-09-01 14:32:38.400</td>\n",
       "      <td>2020-06-12 10:48:00.000</td>\n",
       "    </tr>\n",
       "    <tr>\n",
       "      <th>4869</th>\n",
       "      <td>4869</td>\n",
       "      <td>1.599876e+09</td>\n",
       "      <td>0.07267</td>\n",
       "      <td>0.10956</td>\n",
       "      <td>0.17983</td>\n",
       "      <td>0.110926</td>\n",
       "      <td>2024-07-21</td>\n",
       "      <td>2020-07-21</td>\n",
       "      <td>2020-11-04 04:06:03.168</td>\n",
       "      <td>2020-12-28 01:36:42.624</td>\n",
       "      <td>2021-04-09 17:33:32.832</td>\n",
       "    </tr>\n",
       "    <tr>\n",
       "      <th>776</th>\n",
       "      <td>776</td>\n",
       "      <td>1.541018e+09</td>\n",
       "      <td>0.11630</td>\n",
       "      <td>0.19206</td>\n",
       "      <td>0.30836</td>\n",
       "      <td>NaN</td>\n",
       "      <td>2025-12-29</td>\n",
       "      <td>2018-04-06</td>\n",
       "      <td>2019-02-28 10:20:55.680</td>\n",
       "      <td>2019-09-30 09:03:30.816</td>\n",
       "      <td>2020-08-23 19:24:26.496</td>\n",
       "    </tr>\n",
       "    <tr>\n",
       "      <th>4043</th>\n",
       "      <td>4043</td>\n",
       "      <td>1.600085e+09</td>\n",
       "      <td>0.33022</td>\n",
       "      <td>0.45095</td>\n",
       "      <td>0.60785</td>\n",
       "      <td>NaN</td>\n",
       "      <td>2022-04-09</td>\n",
       "      <td>2020-04-09</td>\n",
       "      <td>2020-12-06 01:27:15.840</td>\n",
       "      <td>2021-03-04 04:38:38.400</td>\n",
       "      <td>2021-06-26 17:31:55.200</td>\n",
       "    </tr>\n",
       "  </tbody>\n",
       "</table>\n",
       "</div>"
      ],
      "text/plain": [
       "         q             t       q1       q2       q3       Res         max  \\\n",
       "q                                                                           \n",
       "2844  2844  1.610748e+09  0.03578  0.06741  0.14177       NaN  2029-12-29   \n",
       "1040  1040  1.538105e+09  0.17421  0.28329  0.48675  0.214494  2022-06-01   \n",
       "4869  4869  1.599876e+09  0.07267  0.10956  0.17983  0.110926  2024-07-21   \n",
       "776    776  1.541018e+09  0.11630  0.19206  0.30836       NaN  2025-12-29   \n",
       "4043  4043  1.600085e+09  0.33022  0.45095  0.60785       NaN  2022-04-09   \n",
       "\n",
       "             min                  q1Time                  q2Time  \\\n",
       "q                                                                  \n",
       "2844  2019-12-10 2020-04-19 09:13:11.424 2020-08-13 12:42:30.528   \n",
       "1040  2018-08-01 2019-04-01 21:27:21.600 2019-09-01 14:32:38.400   \n",
       "4869  2020-07-21 2020-11-04 04:06:03.168 2020-12-28 01:36:42.624   \n",
       "776   2018-04-06 2019-02-28 10:20:55.680 2019-09-30 09:03:30.816   \n",
       "4043  2020-04-09 2020-12-06 01:27:15.840 2021-03-04 04:38:38.400   \n",
       "\n",
       "                      q3Time  \n",
       "q                             \n",
       "2844 2021-05-13 13:54:23.616  \n",
       "1040 2020-06-12 10:48:00.000  \n",
       "4869 2021-04-09 17:33:32.832  \n",
       "776  2020-08-23 19:24:26.496  \n",
       "4043 2021-06-26 17:31:55.200  "
      ]
     },
     "execution_count": 189,
     "metadata": {},
     "output_type": "execute_result"
    }
   ],
   "source": [
    "datesframe[datesframe.q3Time<datetime.today()]"
   ]
  },
  {
   "cell_type": "code",
   "execution_count": 190,
   "metadata": {},
   "outputs": [
    {
     "data": {
      "text/plain": [
       "(41, 11)"
      ]
     },
     "execution_count": 190,
     "metadata": {},
     "output_type": "execute_result"
    }
   ],
   "source": [
    "datesframe.shape"
   ]
  },
  {
   "cell_type": "code",
   "execution_count": 191,
   "metadata": {},
   "outputs": [
    {
     "data": {
      "text/html": [
       "<div>\n",
       "<style scoped>\n",
       "    .dataframe tbody tr th:only-of-type {\n",
       "        vertical-align: middle;\n",
       "    }\n",
       "\n",
       "    .dataframe tbody tr th {\n",
       "        vertical-align: top;\n",
       "    }\n",
       "\n",
       "    .dataframe thead th {\n",
       "        text-align: right;\n",
       "    }\n",
       "</style>\n",
       "<table border=\"1\" class=\"dataframe\">\n",
       "  <thead>\n",
       "    <tr style=\"text-align: right;\">\n",
       "      <th></th>\n",
       "      <th>q</th>\n",
       "      <th>t</th>\n",
       "      <th>q1</th>\n",
       "      <th>q2</th>\n",
       "      <th>q3</th>\n",
       "      <th>Res</th>\n",
       "      <th>max</th>\n",
       "      <th>min</th>\n",
       "      <th>q1Time</th>\n",
       "      <th>q2Time</th>\n",
       "      <th>q3Time</th>\n",
       "    </tr>\n",
       "    <tr>\n",
       "      <th>q</th>\n",
       "      <th></th>\n",
       "      <th></th>\n",
       "      <th></th>\n",
       "      <th></th>\n",
       "      <th></th>\n",
       "      <th></th>\n",
       "      <th></th>\n",
       "      <th></th>\n",
       "      <th></th>\n",
       "      <th></th>\n",
       "      <th></th>\n",
       "    </tr>\n",
       "  </thead>\n",
       "  <tbody>\n",
       "    <tr>\n",
       "      <th>2864</th>\n",
       "      <td>2864</td>\n",
       "      <td>1.562280e+09</td>\n",
       "      <td>0.04106</td>\n",
       "      <td>0.09611</td>\n",
       "      <td>0.18651</td>\n",
       "      <td>0.004059</td>\n",
       "      <td>2030-05-06</td>\n",
       "      <td>2020-01-01</td>\n",
       "      <td>2020-06-04 02:59:32.352</td>\n",
       "      <td>2020-12-29 02:29:09.312</td>\n",
       "      <td>2021-12-05 15:14:04.992000000</td>\n",
       "    </tr>\n",
       "    <tr>\n",
       "      <th>3040</th>\n",
       "      <td>3040</td>\n",
       "      <td>1.570141e+09</td>\n",
       "      <td>0.18927</td>\n",
       "      <td>0.38797</td>\n",
       "      <td>0.57813</td>\n",
       "      <td>0.004152</td>\n",
       "      <td>2060-01-01</td>\n",
       "      <td>2020-01-01</td>\n",
       "      <td>2027-07-28 05:37:58.080</td>\n",
       "      <td>2035-07-09 05:48:02.880</td>\n",
       "      <td>2043-02-15 11:30:11.520000000</td>\n",
       "    </tr>\n",
       "    <tr>\n",
       "      <th>503</th>\n",
       "      <td>503</td>\n",
       "      <td>1.512395e+09</td>\n",
       "      <td>0.11231</td>\n",
       "      <td>0.23421</td>\n",
       "      <td>0.42700</td>\n",
       "      <td>0.048738</td>\n",
       "      <td>2039-12-29</td>\n",
       "      <td>2017-08-31</td>\n",
       "      <td>2020-03-03 21:18:47.520</td>\n",
       "      <td>2022-11-22 23:34:52.320</td>\n",
       "      <td>2027-03-14 04:26:24.000000000</td>\n",
       "    </tr>\n",
       "    <tr>\n",
       "      <th>1040</th>\n",
       "      <td>1040</td>\n",
       "      <td>1.538105e+09</td>\n",
       "      <td>0.17421</td>\n",
       "      <td>0.28329</td>\n",
       "      <td>0.48675</td>\n",
       "      <td>0.214494</td>\n",
       "      <td>2022-06-01</td>\n",
       "      <td>2018-08-01</td>\n",
       "      <td>2019-04-01 21:27:21.600</td>\n",
       "      <td>2019-09-01 14:32:38.400</td>\n",
       "      <td>2020-06-12 10:48:00.000000000</td>\n",
       "    </tr>\n",
       "    <tr>\n",
       "      <th>4869</th>\n",
       "      <td>4869</td>\n",
       "      <td>1.599876e+09</td>\n",
       "      <td>0.07267</td>\n",
       "      <td>0.10956</td>\n",
       "      <td>0.17983</td>\n",
       "      <td>0.110926</td>\n",
       "      <td>2024-07-21</td>\n",
       "      <td>2020-07-21</td>\n",
       "      <td>2020-11-04 04:06:03.168</td>\n",
       "      <td>2020-12-28 01:36:42.624</td>\n",
       "      <td>2021-04-09 17:33:32.832000000</td>\n",
       "    </tr>\n",
       "    <tr>\n",
       "      <th>3770</th>\n",
       "      <td>3770</td>\n",
       "      <td>1.592971e+09</td>\n",
       "      <td>0.03887</td>\n",
       "      <td>0.07460</td>\n",
       "      <td>0.13309</td>\n",
       "      <td>0.014384</td>\n",
       "      <td>2099-12-25</td>\n",
       "      <td>2020-02-21</td>\n",
       "      <td>2023-03-30 12:38:47.616</td>\n",
       "      <td>2026-02-04 11:38:41.280</td>\n",
       "      <td>2030-10-07 04:05:38.112000064</td>\n",
       "    </tr>\n",
       "    <tr>\n",
       "      <th>2848</th>\n",
       "      <td>2848</td>\n",
       "      <td>1.552214e+09</td>\n",
       "      <td>0.20299</td>\n",
       "      <td>0.41101</td>\n",
       "      <td>0.63839</td>\n",
       "      <td>0.002814</td>\n",
       "      <td>2029-12-29</td>\n",
       "      <td>2019-12-10</td>\n",
       "      <td>2021-12-24 09:06:09.792</td>\n",
       "      <td>2024-01-27 05:29:21.408</td>\n",
       "      <td>2026-05-11 04:02:02.112000000</td>\n",
       "    </tr>\n",
       "  </tbody>\n",
       "</table>\n",
       "</div>"
      ],
      "text/plain": [
       "         q             t       q1       q2       q3       Res         max  \\\n",
       "q                                                                           \n",
       "2864  2864  1.562280e+09  0.04106  0.09611  0.18651  0.004059  2030-05-06   \n",
       "3040  3040  1.570141e+09  0.18927  0.38797  0.57813  0.004152  2060-01-01   \n",
       "503    503  1.512395e+09  0.11231  0.23421  0.42700  0.048738  2039-12-29   \n",
       "1040  1040  1.538105e+09  0.17421  0.28329  0.48675  0.214494  2022-06-01   \n",
       "4869  4869  1.599876e+09  0.07267  0.10956  0.17983  0.110926  2024-07-21   \n",
       "3770  3770  1.592971e+09  0.03887  0.07460  0.13309  0.014384  2099-12-25   \n",
       "2848  2848  1.552214e+09  0.20299  0.41101  0.63839  0.002814  2029-12-29   \n",
       "\n",
       "             min                  q1Time                  q2Time  \\\n",
       "q                                                                  \n",
       "2864  2020-01-01 2020-06-04 02:59:32.352 2020-12-29 02:29:09.312   \n",
       "3040  2020-01-01 2027-07-28 05:37:58.080 2035-07-09 05:48:02.880   \n",
       "503   2017-08-31 2020-03-03 21:18:47.520 2022-11-22 23:34:52.320   \n",
       "1040  2018-08-01 2019-04-01 21:27:21.600 2019-09-01 14:32:38.400   \n",
       "4869  2020-07-21 2020-11-04 04:06:03.168 2020-12-28 01:36:42.624   \n",
       "3770  2020-02-21 2023-03-30 12:38:47.616 2026-02-04 11:38:41.280   \n",
       "2848  2019-12-10 2021-12-24 09:06:09.792 2024-01-27 05:29:21.408   \n",
       "\n",
       "                            q3Time  \n",
       "q                                   \n",
       "2864 2021-12-05 15:14:04.992000000  \n",
       "3040 2043-02-15 11:30:11.520000000  \n",
       "503  2027-03-14 04:26:24.000000000  \n",
       "1040 2020-06-12 10:48:00.000000000  \n",
       "4869 2021-04-09 17:33:32.832000000  \n",
       "3770 2030-10-07 04:05:38.112000064  \n",
       "2848 2026-05-11 04:02:02.112000000  "
      ]
     },
     "execution_count": 191,
     "metadata": {},
     "output_type": "execute_result"
    }
   ],
   "source": [
    "datesframe[datesframe.Res>=0]"
   ]
  },
  {
   "cell_type": "markdown",
   "metadata": {},
   "source": [
    "## Process binary questions by flipping the sign of the ones we want to flip, this was taken from google doc"
   ]
  },
  {
   "cell_type": "code",
   "execution_count": 192,
   "metadata": {},
   "outputs": [],
   "source": [
    "binmults={2829:1,2912:1,2982:1,2851:1,2891:1,2917:1,2875:1,2907:1,2919:1,2976:1,2859:1,2900:1,2908:1,2852:1,13:1,1335:1,345:1,45:1,903:1,9:1,2567:1,106:1,1019:1,170:-1,204:1,3762:1,344:1,5512:1,2535:1,207:1,470:-1,206:1,112:1,46:1,302:1,2871:1,3083:1,2837:1,2839:-1,2882:1,2847:1}"
   ]
  },
  {
   "cell_type": "code",
   "execution_count": 193,
   "metadata": {},
   "outputs": [
    {
     "data": {
      "text/plain": [
       "41"
      ]
     },
     "execution_count": 193,
     "metadata": {},
     "output_type": "execute_result"
    }
   ],
   "source": [
    "len(binmults)"
   ]
  },
  {
   "cell_type": "code",
   "execution_count": 194,
   "metadata": {},
   "outputs": [],
   "source": [
    "\n",
    "for i in bincodes:\n",
    "    try:\n",
    "        if binmults[i]==-1:\n",
    "            a=snapshots[i][\"q1\"]\n",
    "            b=snapshots[i][\"q3\"]\n",
    "            snapshots[i][\"Resolution\"]=1-snapshots[i][\"Resolution\"]\n",
    "            snapshots[i][\"median\"]=1-snapshots[i][\"median\"]\n",
    "            snapshots[i][\"q1\"]=1-b\n",
    "            snapshots[i][\"q3\"]=1-a\n",
    "    except:\n",
    "        pass"
   ]
  },
  {
   "cell_type": "code",
   "execution_count": 195,
   "metadata": {},
   "outputs": [],
   "source": [
    "lb=[]\n",
    "for q in binmults.keys():\n",
    "    if snapshots[q][\"Resolution\"] in [0.0,1.0]:\n",
    "        lb.append([q,snapshots[q][\"t\"],snapshots[q][\"q1\"],snapshots[q][\"median\"],snapshots[q][\"q3\"],snapshots[q][\"Resolution\"]])\n",
    "        \n",
    "        \n",
    "binframe=pd.DataFrame(lb, columns=[\"q\",\"t\",\"q1\",\"q2\",\"q3\",\"Res\"])"
   ]
  },
  {
   "cell_type": "code",
   "execution_count": 197,
   "metadata": {},
   "outputs": [
    {
     "data": {
      "text/plain": [
       "115"
      ]
     },
     "execution_count": 197,
     "metadata": {},
     "output_type": "execute_result"
    }
   ],
   "source": [
    "len(bincodes)"
   ]
  },
  {
   "cell_type": "markdown",
   "metadata": {},
   "source": [
    "## Get quartiles of \"how many questions were expected to resolve?\""
   ]
  },
  {
   "cell_type": "code",
   "execution_count": 198,
   "metadata": {
    "scrolled": true
   },
   "outputs": [
    {
     "data": {
      "text/plain": [
       "13.659999999999998"
      ]
     },
     "execution_count": 198,
     "metadata": {},
     "output_type": "execute_result"
    }
   ],
   "source": [
    "np.sum(binframe.q1)"
   ]
  },
  {
   "cell_type": "code",
   "execution_count": 199,
   "metadata": {},
   "outputs": [
    {
     "data": {
      "text/plain": [
       "17.48"
      ]
     },
     "execution_count": 199,
     "metadata": {},
     "output_type": "execute_result"
    }
   ],
   "source": [
    "np.sum(binframe.q2)"
   ]
  },
  {
   "cell_type": "code",
   "execution_count": 200,
   "metadata": {},
   "outputs": [
    {
     "data": {
      "text/plain": [
       "21.16"
      ]
     },
     "execution_count": 200,
     "metadata": {},
     "output_type": "execute_result"
    }
   ],
   "source": [
    "np.sum(binframe.q3)"
   ]
  },
  {
   "cell_type": "code",
   "execution_count": 201,
   "metadata": {},
   "outputs": [
    {
     "data": {
      "text/plain": [
       "11.0"
      ]
     },
     "execution_count": 201,
     "metadata": {},
     "output_type": "execute_result"
    }
   ],
   "source": [
    "np.sum(binframe.Res)"
   ]
  },
  {
   "cell_type": "code",
   "execution_count": 202,
   "metadata": {},
   "outputs": [
    {
     "data": {
      "text/plain": [
       "(41, 6)"
      ]
     },
     "execution_count": 202,
     "metadata": {},
     "output_type": "execute_result"
    }
   ],
   "source": [
    "binframe.shape"
   ]
  },
  {
   "cell_type": "code",
   "execution_count": 204,
   "metadata": {},
   "outputs": [
    {
     "data": {
      "text/html": [
       "<div>\n",
       "<style scoped>\n",
       "    .dataframe tbody tr th:only-of-type {\n",
       "        vertical-align: middle;\n",
       "    }\n",
       "\n",
       "    .dataframe tbody tr th {\n",
       "        vertical-align: top;\n",
       "    }\n",
       "\n",
       "    .dataframe thead th {\n",
       "        text-align: right;\n",
       "    }\n",
       "</style>\n",
       "<table border=\"1\" class=\"dataframe\">\n",
       "  <thead>\n",
       "    <tr style=\"text-align: right;\">\n",
       "      <th></th>\n",
       "      <th>q</th>\n",
       "      <th>t</th>\n",
       "      <th>q1</th>\n",
       "      <th>q2</th>\n",
       "      <th>q3</th>\n",
       "      <th>Res</th>\n",
       "    </tr>\n",
       "  </thead>\n",
       "  <tbody>\n",
       "    <tr>\n",
       "      <th>0</th>\n",
       "      <td>2829</td>\n",
       "      <td>1.555083e+09</td>\n",
       "      <td>0.33</td>\n",
       "      <td>0.50</td>\n",
       "      <td>0.50</td>\n",
       "      <td>1.0</td>\n",
       "    </tr>\n",
       "    <tr>\n",
       "      <th>1</th>\n",
       "      <td>2912</td>\n",
       "      <td>1.573206e+09</td>\n",
       "      <td>0.39</td>\n",
       "      <td>0.48</td>\n",
       "      <td>0.60</td>\n",
       "      <td>1.0</td>\n",
       "    </tr>\n",
       "    <tr>\n",
       "      <th>2</th>\n",
       "      <td>2982</td>\n",
       "      <td>1.570854e+09</td>\n",
       "      <td>0.58</td>\n",
       "      <td>0.65</td>\n",
       "      <td>0.70</td>\n",
       "      <td>0.0</td>\n",
       "    </tr>\n",
       "    <tr>\n",
       "      <th>3</th>\n",
       "      <td>2851</td>\n",
       "      <td>1.561932e+09</td>\n",
       "      <td>0.15</td>\n",
       "      <td>0.20</td>\n",
       "      <td>0.25</td>\n",
       "      <td>0.0</td>\n",
       "    </tr>\n",
       "    <tr>\n",
       "      <th>4</th>\n",
       "      <td>2891</td>\n",
       "      <td>1.567235e+09</td>\n",
       "      <td>0.22</td>\n",
       "      <td>0.28</td>\n",
       "      <td>0.35</td>\n",
       "      <td>0.0</td>\n",
       "    </tr>\n",
       "  </tbody>\n",
       "</table>\n",
       "</div>"
      ],
      "text/plain": [
       "      q             t    q1    q2    q3  Res\n",
       "0  2829  1.555083e+09  0.33  0.50  0.50  1.0\n",
       "1  2912  1.573206e+09  0.39  0.48  0.60  1.0\n",
       "2  2982  1.570854e+09  0.58  0.65  0.70  0.0\n",
       "3  2851  1.561932e+09  0.15  0.20  0.25  0.0\n",
       "4  2891  1.567235e+09  0.22  0.28  0.35  0.0"
      ]
     },
     "execution_count": 204,
     "metadata": {},
     "output_type": "execute_result"
    }
   ],
   "source": [
    "binframe.head()"
   ]
  },
  {
   "cell_type": "markdown",
   "metadata": {},
   "source": [
    "## Get Brier scores and expected Brier scores"
   ]
  },
  {
   "cell_type": "code",
   "execution_count": 205,
   "metadata": {},
   "outputs": [],
   "source": [
    "binframe[\"EBrier\"]=binframe[\"q2\"].apply(lambda x: EBrier(x))"
   ]
  },
  {
   "cell_type": "code",
   "execution_count": 206,
   "metadata": {},
   "outputs": [],
   "source": [
    "binframe[\"Brier\"]=(binframe[\"Res\"]-binframe[\"q2\"])*(binframe[\"Res\"]-binframe[\"q2\"])"
   ]
  },
  {
   "cell_type": "code",
   "execution_count": 279,
   "metadata": {},
   "outputs": [
    {
     "data": {
      "text/plain": [
       "q           1.906073e+03\n",
       "t           1.527860e+09\n",
       "q1          3.331707e-01\n",
       "q2          4.263415e-01\n",
       "q3          5.160976e-01\n",
       "Res         2.682927e-01\n",
       "EBrier      2.031951e-01\n",
       "Brier       2.026585e-01\n",
       "OutcomeP    5.941463e-01\n",
       "dtype: float64"
      ]
     },
     "execution_count": 279,
     "metadata": {},
     "output_type": "execute_result"
    }
   ],
   "source": [
    "binframe.mean()"
   ]
  },
  {
   "cell_type": "markdown",
   "metadata": {},
   "source": [
    "## get overconfidence scores"
   ]
  },
  {
   "cell_type": "code",
   "execution_count": 208,
   "metadata": {},
   "outputs": [],
   "source": [
    "binframe[\"OutcomeP\"]=binframe[[\"q2\", \"Res\"]].apply(lambda x:  pofr(*x), axis=1)"
   ]
  },
  {
   "cell_type": "code",
   "execution_count": 209,
   "metadata": {},
   "outputs": [
    {
     "data": {
      "text/plain": [
       "-0.005732152162584619"
      ]
     },
     "execution_count": 209,
     "metadata": {},
     "output_type": "execute_result"
    }
   ],
   "source": [
    "overconfidence(binframe.OutcomeP)"
   ]
  },
  {
   "cell_type": "code",
   "execution_count": 210,
   "metadata": {},
   "outputs": [
    {
     "data": {
      "text/plain": [
       "dict_keys([2884, 2570, 3028, 2977, 2893, 2843, 2862, 2866, 2878, 2918, 2909, 2902, 5871, 6439, 5900, 1069, 438])"
      ]
     },
     "execution_count": 210,
     "metadata": {},
     "output_type": "execute_result"
    }
   ],
   "source": [
    "numcodes"
   ]
  },
  {
   "cell_type": "code",
   "execution_count": 216,
   "metadata": {},
   "outputs": [],
   "source": [
    "q1ps=[]\n",
    "for i in binmults.keys():\n",
    "    q1ps.append(snapshots[i][\"q1\"])"
   ]
  },
  {
   "cell_type": "code",
   "execution_count": 217,
   "metadata": {},
   "outputs": [
    {
     "data": {
      "text/plain": [
       "41"
      ]
     },
     "execution_count": 217,
     "metadata": {},
     "output_type": "execute_result"
    }
   ],
   "source": [
    "len(q1ps)"
   ]
  },
  {
   "cell_type": "code",
   "execution_count": 220,
   "metadata": {},
   "outputs": [],
   "source": [
    "q2ps=[]\n",
    "for i in binmults.keys():\n",
    "    q2ps.append(snapshots[i][\"median\"])"
   ]
  },
  {
   "cell_type": "code",
   "execution_count": 223,
   "metadata": {},
   "outputs": [],
   "source": [
    "q3ps=[]\n",
    "for i in binmults.keys():\n",
    "    q3ps.append(snapshots[i][\"q3\"])"
   ]
  },
  {
   "cell_type": "code",
   "execution_count": 230,
   "metadata": {},
   "outputs": [
    {
     "data": {
      "text/plain": [
       "<AxesSubplot:title={'center':'P(k results|these questions) using 25th percentile probabilities'}, xlabel='k', ylabel='P'>"
      ]
     },
     "execution_count": 230,
     "metadata": {},
     "output_type": "execute_result"
    },
    {
     "data": {
      "image/png": "[encoded data removed]",
      "text/plain": [
       "<Figure size 432x288 with 1 Axes>"
      ]
     },
     "metadata": {
      "needs_background": "light"
     },
     "output_type": "display_data"
    }
   ],
   "source": [
    "ps=[]\n",
    "for i in range(31):\n",
    "    ps.append((poissonbinomial(i,q1ps).real))\n",
    "pd.Series(ps).plot(kind=\"bar\", title=\"P(k results|these questions) using 25th percentile probabilities\", xlabel=\"k\", ylabel=\"P\")"
   ]
  },
  {
   "cell_type": "code",
   "execution_count": 232,
   "metadata": {},
   "outputs": [
    {
     "data": {
      "text/plain": [
       "0.25049967520100697"
      ]
     },
     "execution_count": 232,
     "metadata": {},
     "output_type": "execute_result"
    }
   ],
   "source": [
    "np.sum(ps[:12])"
   ]
  },
  {
   "cell_type": "code",
   "execution_count": 234,
   "metadata": {},
   "outputs": [
    {
     "data": {
      "text/plain": [
       "<AxesSubplot:title={'center':'P(k results|these questions) using median probabilities'}, xlabel='k', ylabel='P'>"
      ]
     },
     "execution_count": 234,
     "metadata": {},
     "output_type": "execute_result"
    },
    {
     "data": {
      "image/png": "[encoded data removed]",
      "text/plain": [
       "<Figure size 432x288 with 1 Axes>"
      ]
     },
     "metadata": {
      "needs_background": "light"
     },
     "output_type": "display_data"
    }
   ],
   "source": [
    "ps2=[]\n",
    "for i in range(31):\n",
    "    ps2.append((poissonbinomial(i,q2ps).real))\n",
    "pd.Series(ps2).plot(kind=\"bar\", title=\"P(k results|these questions) using median probabilities\", xlabel=\"k\", ylabel=\"P\")"
   ]
  },
  {
   "cell_type": "code",
   "execution_count": 235,
   "metadata": {},
   "outputs": [
    {
     "data": {
      "text/plain": [
       "0.02480438179479532"
      ]
     },
     "execution_count": 235,
     "metadata": {},
     "output_type": "execute_result"
    }
   ],
   "source": [
    "np.sum(ps2[:12])"
   ]
  },
  {
   "cell_type": "code",
   "execution_count": 67,
   "metadata": {},
   "outputs": [],
   "source": [
    "from datetime import datetime"
   ]
  },
  {
   "cell_type": "markdown",
   "metadata": {},
   "source": [
    "## Get open duration for questions, then multiply by 0.75 as we took the prediction from 1/4 the way through"
   ]
  },
  {
   "cell_type": "code",
   "execution_count": 236,
   "metadata": {},
   "outputs": [],
   "source": [
    "lengths=[]\n",
    "for q in binmults.keys():\n",
    "    lengths.append(datetime.fromtimestamp(qs[q][\"community_prediction\"][\"history\"][-1][\"t\"])-datetime.fromtimestamp(qs[q][\"community_prediction\"][\"history\"][1][\"t\"]))"
   ]
  },
  {
   "cell_type": "code",
   "execution_count": 237,
   "metadata": {},
   "outputs": [
    {
     "data": {
      "text/plain": [
       "datetime.timedelta(days=79, seconds=72007, microseconds=462360)"
      ]
     },
     "execution_count": 237,
     "metadata": {},
     "output_type": "execute_result"
    }
   ],
   "source": [
    "np.mean(lengths)*.75"
   ]
  },
  {
   "cell_type": "code",
   "execution_count": 239,
   "metadata": {},
   "outputs": [
    {
     "data": {
      "text/plain": [
       "datetime.timedelta(days=77, seconds=68090, microseconds=214460)"
      ]
     },
     "execution_count": 239,
     "metadata": {},
     "output_type": "execute_result"
    }
   ],
   "source": [
    "np.percentile( lengths, 50)*.75"
   ]
  },
  {
   "cell_type": "code",
   "execution_count": 240,
   "metadata": {},
   "outputs": [
    {
     "data": {
      "text/plain": [
       "datetime.timedelta(days=284, seconds=14647, microseconds=929759)"
      ]
     },
     "execution_count": 240,
     "metadata": {},
     "output_type": "execute_result"
    }
   ],
   "source": [
    "np.max( lengths)*.75"
   ]
  },
  {
   "cell_type": "markdown",
   "metadata": {},
   "source": [
    "## Get number of predictions for the AI domain vs www domain questions"
   ]
  },
  {
   "cell_type": "code",
   "execution_count": 244,
   "metadata": {},
   "outputs": [],
   "source": [
    "ai=[]\n",
    "www=[]\n",
    "for k in longaiqs:\n",
    "    try:\n",
    "        ai.append(snapshots[k][\"nu\"])\n",
    "    except:\n",
    "        pass\n",
    "for k in allaiqs:\n",
    "    try:\n",
    "        www.append(snapshots[k][\"nu\"])\n",
    "    except:\n",
    "        pass"
   ]
  },
  {
   "cell_type": "code",
   "execution_count": 242,
   "metadata": {},
   "outputs": [
    {
     "data": {
      "text/plain": [
       "{'t': 1576082328.241388,\n",
       " 'median': 0.52668,\n",
       " 'q1': 0.34286,\n",
       " 'q3': 0.78761,\n",
       " 'ResolveTime': '2030-01-01T08:00:00Z',\n",
       " 'np': 17,\n",
       " 'nu': 12,\n",
       " 'Resolution': None}"
      ]
     },
     "execution_count": 242,
     "metadata": {},
     "output_type": "execute_result"
    }
   ],
   "source": [
    "snapshots[k]"
   ]
  },
  {
   "cell_type": "code",
   "execution_count": 247,
   "metadata": {},
   "outputs": [
    {
     "data": {
      "text/plain": [
       "12.0"
      ]
     },
     "execution_count": 247,
     "metadata": {},
     "output_type": "execute_result"
    }
   ],
   "source": [
    "np.median(ai)"
   ]
  },
  {
   "cell_type": "code",
   "execution_count": 248,
   "metadata": {},
   "outputs": [
    {
     "data": {
      "text/plain": [
       "39.0"
      ]
     },
     "execution_count": 248,
     "metadata": {},
     "output_type": "execute_result"
    }
   ],
   "source": [
    "np.median(www)"
   ]
  },
  {
   "cell_type": "code",
   "execution_count": 250,
   "metadata": {},
   "outputs": [
    {
     "data": {
      "text/plain": [
       "259"
      ]
     },
     "execution_count": 250,
     "metadata": {},
     "output_type": "execute_result"
    }
   ],
   "source": [
    "len(qs)"
   ]
  },
  {
   "cell_type": "code",
   "execution_count": 251,
   "metadata": {},
   "outputs": [
    {
     "data": {
      "text/plain": [
       "180"
      ]
     },
     "execution_count": 251,
     "metadata": {},
     "output_type": "execute_result"
    }
   ],
   "source": [
    "len(allaiqs)"
   ]
  },
  {
   "cell_type": "code",
   "execution_count": 255,
   "metadata": {},
   "outputs": [
    {
     "data": {
      "text/plain": [
       "73"
      ]
     },
     "execution_count": 255,
     "metadata": {},
     "output_type": "execute_result"
    }
   ],
   "source": [
    "len(longlist)"
   ]
  },
  {
   "cell_type": "code",
   "execution_count": 258,
   "metadata": {},
   "outputs": [],
   "source": [
    "c=list(set(allaiqs) & set(longaiqs))"
   ]
  },
  {
   "cell_type": "code",
   "execution_count": 259,
   "metadata": {},
   "outputs": [
    {
     "data": {
      "text/plain": [
       "7"
      ]
     },
     "execution_count": 259,
     "metadata": {},
     "output_type": "execute_result"
    }
   ],
   "source": [
    "len(c)"
   ]
  },
  {
   "cell_type": "code",
   "execution_count": 260,
   "metadata": {},
   "outputs": [
    {
     "data": {
      "text/plain": [
       "[2976, 2977, 2979, 2981, 2982, 3056, 3028]"
      ]
     },
     "execution_count": 260,
     "metadata": {},
     "output_type": "execute_result"
    }
   ],
   "source": [
    "c"
   ]
  },
  {
   "cell_type": "code",
   "execution_count": 265,
   "metadata": {},
   "outputs": [],
   "source": [
    "d=list(set(longaiqs)&set(qs.keys()))"
   ]
  },
  {
   "cell_type": "code",
   "execution_count": 266,
   "metadata": {},
   "outputs": [
    {
     "data": {
      "text/plain": [
       "97"
      ]
     },
     "execution_count": 266,
     "metadata": {},
     "output_type": "execute_result"
    }
   ],
   "source": [
    "len(d)"
   ]
  },
  {
   "cell_type": "code",
   "execution_count": 267,
   "metadata": {},
   "outputs": [],
   "source": [
    "e=list(set(allaiqs)&set(qs.keys()))"
   ]
  },
  {
   "cell_type": "code",
   "execution_count": 268,
   "metadata": {},
   "outputs": [
    {
     "data": {
      "text/plain": [
       "169"
      ]
     },
     "execution_count": 268,
     "metadata": {},
     "output_type": "execute_result"
    }
   ],
   "source": [
    "len(e)"
   ]
  },
  {
   "cell_type": "code",
   "execution_count": 269,
   "metadata": {},
   "outputs": [
    {
     "data": {
      "text/plain": [
       "266"
      ]
     },
     "execution_count": 269,
     "metadata": {},
     "output_type": "execute_result"
    }
   ],
   "source": [
    "97+169"
   ]
  },
  {
   "cell_type": "code",
   "execution_count": null,
   "metadata": {},
   "outputs": [],
   "source": []
  }
 ],
 "metadata": {
  "kernelspec": {
   "display_name": "Python 3",
   "language": "python",
   "name": "python3"
  },
  "language_info": {
   "codemirror_mode": {
    "name": "ipython",
    "version": 3
   },
   "file_extension": ".py",
   "mimetype": "text/x-python",
   "name": "python",
   "nbconvert_exporter": "python",
   "pygments_lexer": "ipython3",
   "version": "3.8.5"
  }
 },
 "nbformat": 4,
 "nbformat_minor": 4
}
